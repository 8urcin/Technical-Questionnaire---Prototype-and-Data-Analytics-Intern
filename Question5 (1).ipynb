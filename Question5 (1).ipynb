{
 "cells": [
  {
   "cell_type": "code",
   "execution_count": null,
   "id": "f68066a6-4368-4316-8e08-a2e76aa50f75",
   "metadata": {},
   "outputs": [],
   "source": [
    "import pandas as pd\n",
    "\n",
    "df = pd.read_csv('country_vaccination_stats.csv')\n",
    "for country in df['country'].unique():\n",
    "    min_val = df[df['country'] == country]['daily_vaccinations'].min()\n",
    "    if pd.isna(min_val):\n",
    "        df.loc[df['country'] == country, 'daily_vaccinations'] = df.loc[df['country'] == country, 'daily_vaccinations'].fillna(0)\n",
    "    else:\n",
    "        df.loc[df['country'] == country, 'daily_vaccinations'] = df.loc[df['country'] == country, 'daily_vaccinations'].fillna(min_val)\n",
    "df.to_csv(\"imputed_vaccination_stats.csv\", index=False)\n"
   ]
  }
 ],
 "metadata": {
  "kernelspec": {
   "display_name": "Python 3 (ipykernel)",
   "language": "python",
   "name": "python3"
  },
  "language_info": {
   "codemirror_mode": {
    "name": "ipython",
    "version": 3
   },
   "file_extension": ".py",
   "mimetype": "text/x-python",
   "name": "python",
   "nbconvert_exporter": "python",
   "pygments_lexer": "ipython3",
   "version": "3.11.5"
  }
 },
 "nbformat": 4,
 "nbformat_minor": 5
}
