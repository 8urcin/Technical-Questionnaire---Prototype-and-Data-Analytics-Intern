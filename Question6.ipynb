{
 "cells": [
  {
   "cell_type": "code",
   "execution_count": 1,
   "id": "e0fd3b41-f35e-4187-b4c9-41eb52b72cc8",
   "metadata": {
    "tags": []
   },
   "outputs": [],
   "source": [
    "import pandas as pd\n",
    "\n",
    "df = pd.read_csv(\"country_vaccination_stats.csv\")\n",
    "for country in df['country'].unique():\n",
    "    min_val = df[df['country'] == country]['daily_vaccinations'].min()\n",
    "    if pd.isna(min_val):\n",
    "        df.loc[df['country'] == country, 'daily_vaccinations'] = df.loc[df['country'] == country, 'daily_vaccinations'].fillna(0)\n",
    "    else:\n",
    "        df.loc[df['country'] == country, 'daily_vaccinations'] = df.loc[df['country'] == country, 'daily_vaccinations'].fillna(min_val)\n",
    "medians = df.groupby('country')['daily_vaccinations'].median().nlargest(3)\n",
    "medians.to_csv(\"top_3_countries_by_median_vaccinations.csv\")\n"
   ]
  },
  {
   "cell_type": "code",
   "execution_count": null,
   "id": "0d6002d0-70b0-45ff-9615-bc1dbd24479d",
   "metadata": {},
   "outputs": [],
   "source": []
  }
 ],
 "metadata": {
  "kernelspec": {
   "display_name": "Python 3 (ipykernel)",
   "language": "python",
   "name": "python3"
  },
  "language_info": {
   "codemirror_mode": {
    "name": "ipython",
    "version": 3
   },
   "file_extension": ".py",
   "mimetype": "text/x-python",
   "name": "python",
   "nbconvert_exporter": "python",
   "pygments_lexer": "ipython3",
   "version": "3.11.5"
  }
 },
 "nbformat": 4,
 "nbformat_minor": 5
}
