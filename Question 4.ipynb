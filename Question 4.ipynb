{
 "cells": [
  {
   "cell_type": "code",
   "execution_count": 1,
   "id": "3b708e3e-8faa-4da4-ac2c-dc1f96f9e886",
   "metadata": {
    "tags": []
   },
   "outputs": [
    {
     "name": "stdout",
     "output_type": "stream",
     "text": [
      "     country        date  daily_vaccinations   vaccines\n",
      "0  Argentina  12/29/2020              6483.0  Sputnik V\n",
      "1  Argentina  12/30/2020             15656.0  Sputnik V\n",
      "2  Argentina  12/31/2020             15656.0  Sputnik V\n",
      "3  Argentina    1/1/2021             11070.0  Sputnik V\n",
      "4  Argentina    1/2/2021              8776.0  Sputnik V\n"
     ]
    }
   ],
   "source": [
    "import pandas as pd\n",
    "import numpy as np\n",
    "\n",
    "def fill_missing_vaccinations(filename):\n",
    "  \n",
    "    df = pd.read_csv(filename)\n",
    "    \n",
    "   \n",
    "    def impute_min(series):\n",
    "        return series.replace(np.nan, series.min() if not series.min() == np.nan else 0)\n",
    "    \n",
    "   \n",
    "    df['daily_vaccinations'] = df.groupby('country')['daily_vaccinations'].transform(impute_min)\n",
    "    \n",
    "  \n",
    "    df['daily_vaccinations'].fillna(0, inplace=True)\n",
    "    \n",
    "    \n",
    "    df.to_csv(\"imputed_country_vaccination_stats.csv\", index=False)\n",
    "    return df\n",
    "\n",
    "\n",
    "if __name__ == \"__main__\":\n",
    "    filename = \"country_vaccination_stats.csv\"\n",
    "    filled_df = fill_missing_vaccinations(filename)\n",
    "    print(filled_df.head())\n"
   ]
  },
  {
   "cell_type": "code",
   "execution_count": null,
   "id": "05bfa5c8-748d-4c08-a8a0-85aaa4a7dd30",
   "metadata": {},
   "outputs": [],
   "source": []
  }
 ],
 "metadata": {
  "kernelspec": {
   "display_name": "Python 3 (ipykernel)",
   "language": "python",
   "name": "python3"
  },
  "language_info": {
   "codemirror_mode": {
    "name": "ipython",
    "version": 3
   },
   "file_extension": ".py",
   "mimetype": "text/x-python",
   "name": "python",
   "nbconvert_exporter": "python",
   "pygments_lexer": "ipython3",
   "version": "3.11.5"
  }
 },
 "nbformat": 4,
 "nbformat_minor": 5
}
